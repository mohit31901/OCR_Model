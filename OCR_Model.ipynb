{
 "cells": [
  {
   "cell_type": "code",
   "execution_count": 1,
   "metadata": {
    "id": "9f5toG-1pK6f"
   },
   "outputs": [],
   "source": [
    "import numpy as np\n",
    "import tensorflow as tf\n",
    "import os\n",
    "import cv2\n",
    "import pandas as pd\n",
    "import string\n",
    "import matplotlib.pyplot as plt\n",
    "\n",
    "from tensorflow.keras.utils import pad_sequences\n",
    "from tensorflow.keras.activations import relu, sigmoid, softmax\n",
    "from tensorflow.keras.utils import to_categorical\n",
    "from tensorflow.keras.callbacks import ModelCheckpoint\n",
    "from keras_tqdm import TQDMNotebookCallback\n",
    "\n",
    "from tensorflow.keras import backend as K #Import the tensorflow.keras backend\n",
    "from tensorflow.keras.models import Model\n",
    "from tensorflow.keras.layers import Input, Conv2D, MaxPool2D, Reshape, Bidirectional, LSTM, Dense, Activation, Lambda, BatchNormalization, Dropout, LayerNormalization\n",
    "\n",
    "from sklearn.model_selection import train_test_split\n",
    "from sklearn.preprocessing import MinMaxScaler"
   ]
  },
  {
   "cell_type": "code",
   "execution_count": 2,
   "metadata": {
    "id": "VZNrlfbMrpTj"
   },
   "outputs": [],
   "source": [
    "with open('C:\\AI Models\\OCR_Model\\Dataset\\words_new.txt') as f:\n",
    "    contents = f.readlines()\n",
    "\n",
    "lines = [line.strip() for line in contents][18:]"
   ]
  },
  {
   "cell_type": "code",
   "execution_count": 3,
   "metadata": {
    "colab": {
     "base_uri": "https://localhost:8080/"
    },
    "executionInfo": {
     "elapsed": 2,
     "status": "ok",
     "timestamp": 1729326582586,
     "user": {
      "displayName": "Harshvardhan Gupta",
      "userId": "10328168051463798203"
     },
     "user_tz": -330
    },
    "id": "v1gPkWlysZV_",
    "outputId": "084063b0-71fa-449d-927a-1f02b913d17e"
   },
   "outputs": [
    {
     "name": "stdout",
     "output_type": "stream",
     "text": [
      "!\"#&'()*+,-./0123456789:;?ABCDEFGHIJKLMNOPQRSTUVWXYZabcdefghijklmnopqrstuvwxyz 78\n"
     ]
    }
   ],
   "source": [
    "max_label_len = 0\n",
    "\n",
    "char_list = \"!\\\"#&'()*+,-./0123456789:;?ABCDEFGHIJKLMNOPQRSTUVWXYZabcdefghijklmnopqrstuvwxyz\"\n",
    "\n",
    "print(char_list, len(char_list))\n",
    "\n",
    "def encode_to_labels(txt):\n",
    "    # encoding each output word into digits\n",
    "    dig_lst = []\n",
    "    for index, chara in enumerate(txt):\n",
    "        dig_lst.append(char_list.index(chara))\n",
    "\n",
    "    return dig_lst"
   ]
  },
  {
   "cell_type": "code",
   "execution_count": 4,
   "metadata": {
    "id": "iyYY0nwHsd5K"
   },
   "outputs": [],
   "source": [
    "images = []\n",
    "labels = []\n",
    "\n",
    "RECORDS_COUNT = 30000"
   ]
  },
  {
   "cell_type": "code",
   "execution_count": 5,
   "metadata": {
    "id": "DyPDFpHpsgIY"
   },
   "outputs": [],
   "source": [
    "train_images = []\n",
    "train_labels = []\n",
    "train_input_length = []\n",
    "train_label_length = []\n",
    "train_original_text = []\n",
    "\n",
    "valid_images = []\n",
    "valid_labels = []\n",
    "valid_input_length = []\n",
    "valid_label_length = []\n",
    "valid_original_text = []\n",
    "\n",
    "inputs_length = []\n",
    "labels_length = []"
   ]
  },
  {
   "cell_type": "code",
   "execution_count": 6,
   "metadata": {
    "id": "m7_2WmflskZX"
   },
   "outputs": [],
   "source": [
    "def process_image(img):\n",
    "    \"\"\"\n",
    "    Converts image to shape (32, 128, 1) & normalize\n",
    "    \"\"\"\n",
    "    w, h = img.shape\n",
    "    new_w = 32\n",
    "    new_h = int(h * (new_w / w))\n",
    "    img = cv2.resize(img, (new_h, new_w))\n",
    "    w, h = img.shape\n",
    "\n",
    "    img = img.astype('float32')\n",
    "\n",
    "    # Converts each to (32, 128, 1)\n",
    "    if w < 32:\n",
    "        add_zeros = np.full((32-w, h), 255)\n",
    "        img = np.concatenate((img, add_zeros))\n",
    "        w, h = img.shape\n",
    "\n",
    "    if h < 128:\n",
    "        add_zeros = np.full((w, 128-h), 255)\n",
    "        img = np.concatenate((img, add_zeros), axis=1)\n",
    "        w, h = img.shape\n",
    "\n",
    "    if h > 128 or w > 32:\n",
    "        dim = (128,32)\n",
    "        img = cv2.resize(img, dim)\n",
    "\n",
    "    img = cv2.subtract(255, img)\n",
    "\n",
    "    img = np.expand_dims(img, axis=2)\n",
    "\n",
    "    # # Normalize\n",
    "    img = img / 255.0\n",
    "    return img"
   ]
  },
  {
   "cell_type": "code",
   "execution_count": 7,
   "metadata": {
    "id": "2JpMJAXBswNq"
   },
   "outputs": [],
   "source": [
    "for index, line in enumerate(lines):\n",
    "    splits = line.split(' ')\n",
    "    status = splits[1]\n",
    "\n",
    "    if status == 'ok':\n",
    "        word_id = splits[0]\n",
    "        word = \"\".join(splits[8:])\n",
    "\n",
    "        splits_id = word_id.split('-')\n",
    "        filepath = 'C:\\AI Models\\OCR_Model\\Dataset\\iam_words\\words\\{}\\{}-{}\\{}.png'.format(splits_id[0], splits_id[0],  splits_id[1], word_id)\n",
    "\n",
    "        # process image\n",
    "        img = cv2.imread(filepath, cv2.IMREAD_GRAYSCALE)\n",
    "        try:\n",
    "            img = process_image(img)\n",
    "        except:\n",
    "            continue\n",
    "\n",
    "        # process label\n",
    "        try:\n",
    "            label = encode_to_labels(word)\n",
    "        except:\n",
    "            continue\n",
    "\n",
    "        if index % 10 == 0:\n",
    "            valid_images.append(img)\n",
    "            valid_labels.append(label)\n",
    "            valid_input_length.append(31)\n",
    "            valid_label_length.append(len(word))\n",
    "            valid_original_text.append(word)\n",
    "        else:\n",
    "            train_images.append(img)\n",
    "            train_labels.append(label)\n",
    "            train_input_length.append(31)\n",
    "            train_label_length.append(len(word))\n",
    "            train_original_text.append(word)\n",
    "\n",
    "        if len(word) > max_label_len:\n",
    "            max_label_len = len(word)\n",
    "\n",
    "    if index >= RECORDS_COUNT:\n",
    "        break"
   ]
  },
  {
   "cell_type": "code",
   "execution_count": 8,
   "metadata": {
    "colab": {
     "base_uri": "https://localhost:8080/",
     "height": 188
    },
    "executionInfo": {
     "elapsed": 989,
     "status": "ok",
     "timestamp": 1729326639968,
     "user": {
      "displayName": "Harshvardhan Gupta",
      "userId": "10328168051463798203"
     },
     "user_tz": -330
    },
    "id": "6kGlYDvctOzt",
    "outputId": "1b383e3a-281e-48ca-ec86-9f0c80524027"
   },
   "outputs": [
    {
     "data": {
      "image/png": "[encoded data removed]",
      "text/plain": [
       "<Figure size 640x480 with 1 Axes>"
      ]
     },
     "metadata": {},
     "output_type": "display_data"
    }
   ],
   "source": [
    "import matplotlib.pyplot as plt # Imports the matplotlib library\n",
    "\n",
    "plt.imshow(train_images[647], cmap='gray') # Uses matplotlib to display the image. Use cmap='gray' for grayscale images\n",
    "plt.show()"
   ]
  },
  {
   "cell_type": "code",
   "execution_count": 9,
   "metadata": {
    "id": "I3LFTVw_ta9_"
   },
   "outputs": [],
   "source": [
    "train_padded_label = pad_sequences(train_labels,\n",
    "                             maxlen=max_label_len,\n",
    "                             padding='post',\n",
    "                             value=len(char_list))\n",
    "\n",
    "valid_padded_label = pad_sequences(valid_labels,\n",
    "                             maxlen=max_label_len,\n",
    "                             padding='post',\n",
    "                             value=len(char_list))"
   ]
  },
  {
   "cell_type": "code",
   "execution_count": 10,
   "metadata": {
    "colab": {
     "base_uri": "https://localhost:8080/"
    },
    "executionInfo": {
     "elapsed": 455,
     "status": "ok",
     "timestamp": 1729326644169,
     "user": {
      "displayName": "Harshvardhan Gupta",
      "userId": "10328168051463798203"
     },
     "user_tz": -330
    },
    "id": "pY1rtzvqtoM5",
    "outputId": "762664c0-c504-4615-8286-d37bb13e80bc"
   },
   "outputs": [
    {
     "data": {
      "text/plain": [
       "array([67, 69, 66, 67, 78, 78, 78, 78, 78, 78, 78, 78, 78, 78, 78, 78, 78])"
      ]
     },
     "execution_count": 10,
     "metadata": {},
     "output_type": "execute_result"
    }
   ],
   "source": [
    "valid_padded_label[23]"
   ]
  },
  {
   "cell_type": "code",
   "execution_count": 11,
   "metadata": {
    "colab": {
     "base_uri": "https://localhost:8080/"
    },
    "executionInfo": {
     "elapsed": 1,
     "status": "ok",
     "timestamp": 1729326644596,
     "user": {
      "displayName": "Harshvardhan Gupta",
      "userId": "10328168051463798203"
     },
     "user_tz": -330
    },
    "id": "wBE6SFuUtsFT",
    "outputId": "83f4557b-2a1c-4452-b260-0dc48eb1547b"
   },
   "outputs": [
    {
     "data": {
      "text/plain": [
       "((23761, 17), (2644, 17))"
      ]
     },
     "execution_count": 11,
     "metadata": {},
     "output_type": "execute_result"
    }
   ],
   "source": [
    "train_padded_label.shape, valid_padded_label.shape"
   ]
  },
  {
   "cell_type": "code",
   "execution_count": 12,
   "metadata": {
    "id": "i-oIAM86tyFh"
   },
   "outputs": [],
   "source": [
    "train_images = np.asarray(train_images)\n",
    "train_input_length = np.asarray(train_input_length)\n",
    "train_label_length = np.asarray(train_label_length)\n",
    "\n",
    "valid_images = np.asarray(valid_images)\n",
    "valid_input_length = np.asarray(valid_input_length)\n",
    "valid_label_length = np.asarray(valid_label_length)"
   ]
  },
  {
   "cell_type": "code",
   "execution_count": 13,
   "metadata": {
    "colab": {
     "base_uri": "https://localhost:8080/"
    },
    "executionInfo": {
     "elapsed": 2,
     "status": "ok",
     "timestamp": 1729326647289,
     "user": {
      "displayName": "Harshvardhan Gupta",
      "userId": "10328168051463798203"
     },
     "user_tz": -330
    },
    "id": "7C5uU8SLt0Y2",
    "outputId": "1a0b97a2-9546-4752-852a-5ecdc9e06696"
   },
   "outputs": [
    {
     "data": {
      "text/plain": [
       "(23761, 32, 128, 1)"
      ]
     },
     "execution_count": 13,
     "metadata": {},
     "output_type": "execute_result"
    }
   ],
   "source": [
    "train_images.shape"
   ]
  },
  {
   "cell_type": "code",
   "execution_count": 14,
   "metadata": {
    "id": "Yyt3apvEyuLx"
   },
   "outputs": [],
   "source": [
    "from tensorflow import keras\n",
    "from tensorflow.keras import layers\n",
    "import Levenshtein"
   ]
  },
  {
   "cell_type": "code",
   "execution_count": 15,
   "metadata": {
    "id": "nFb5ZG4it5D_"
   },
   "outputs": [],
   "source": [
    "def create_model(input_shape, num_classes):\n",
    "    inputs = keras.Input(shape=input_shape)\n",
    "\n",
    "    # CNN layers\n",
    "    x = layers.Conv2D(64, (3, 3), activation='relu', padding='same')(inputs)\n",
    "    x = layers.MaxPooling2D((2, 2))(x)\n",
    "    x = layers.Conv2D(128, (3, 3), activation='relu', padding='same')(x)\n",
    "    x = layers.MaxPooling2D((2, 2))(x)\n",
    "    x = layers.Conv2D(256, (3, 3), activation='relu', padding='same')(x)\n",
    "    x = layers.MaxPooling2D((2, 1))(x)\n",
    "    x = layers.Conv2D(512, (3, 3), activation='relu', padding='same')(x)\n",
    "    x = layers.BatchNormalization()(x)\n",
    "    x = layers.Conv2D(512, (3, 3), activation='relu', padding='same')(x)\n",
    "    x = layers.BatchNormalization()(x)\n",
    "    x = layers.MaxPooling2D((2, 1))(x)\n",
    "    \n",
    "    # Reshape for RNN\n",
    "    x = layers.Reshape((-1, x.shape[-1]))(x)\n",
    "\n",
    "\n",
    "    x = Bidirectional(LSTM(256, return_sequences=True))(x)\n",
    "    x = Bidirectional(LSTM(256, return_sequences=True, dropout=0.2))(x)\n",
    "    x = Bidirectional(LSTM(256, return_sequences=True, dropout=0.3))(x)\n",
    "\n",
    "    \n",
    "\n",
    "    # Output layer\n",
    "    outputs = layers.Dense(num_classes, activation='softmax')(x)\n",
    "\n",
    "    return keras.Model(inputs, outputs)"
   ]
  },
  {
   "cell_type": "code",
   "execution_count": 16,
   "metadata": {
    "id": "OB6W7kG5oyBV"
   },
   "outputs": [],
   "source": [
    "input_shape = (32, 128, 1)\n",
    "num_classes = len(char_list) + 1  # +1 for CTC blank\n",
    "model = create_model(input_shape, num_classes)"
   ]
  },
  {
   "cell_type": "code",
   "execution_count": 17,
   "metadata": {
    "id": "NmIn8ifLo0Mu"
   },
   "outputs": [],
   "source": [
    "# CTC loss function\n",
    "def ctc_loss(y_true, y_pred):\n",
    "    batch_len = tf.cast(tf.shape(y_true)[0], dtype=\"int64\")\n",
    "    input_length = tf.cast(tf.shape(y_pred)[1], dtype=\"int64\")\n",
    "    label_length = tf.cast(tf.shape(y_true)[1], dtype=\"int64\")\n",
    "\n",
    "    input_length = input_length * tf.ones(shape=(batch_len, 1), dtype=\"int64\")\n",
    "    label_length = label_length * tf.ones(shape=(batch_len, 1), dtype=\"int64\")\n",
    "\n",
    "    return keras.backend.ctc_batch_cost(y_true, y_pred, input_length, label_length)"
   ]
  },
  {
   "cell_type": "code",
   "execution_count": 19,
   "metadata": {
    "colab": {
     "base_uri": "https://localhost:8080/",
     "height": 754
    },
    "executionInfo": {
     "elapsed": 559,
     "status": "ok",
     "timestamp": 1729326702029,
     "user": {
      "displayName": "Harshvardhan Gupta",
      "userId": "10328168051463798203"
     },
     "user_tz": -330
    },
    "id": "cZm5qFhk2vmh",
    "outputId": "f2dbbec0-8627-4314-c523-f5df612bc87c"
   },
   "outputs": [
    {
     "name": "stdout",
     "output_type": "stream",
     "text": [
      "Model: \"model\"\n",
      "_________________________________________________________________\n",
      " Layer (type)                Output Shape              Param #   \n",
      "=================================================================\n",
      " input_1 (InputLayer)        [(None, 32, 128, 1)]      0         \n",
      "                                                                 \n",
      " conv2d (Conv2D)             (None, 32, 128, 64)       640       \n",
      "                                                                 \n",
      " max_pooling2d (MaxPooling2D  (None, 16, 64, 64)       0         \n",
      " )                                                               \n",
      "                                                                 \n",
      " conv2d_1 (Conv2D)           (None, 16, 64, 128)       73856     \n",
      "                                                                 \n",
      " max_pooling2d_1 (MaxPooling  (None, 8, 32, 128)       0         \n",
      " 2D)                                                             \n",
      "                                                                 \n",
      " conv2d_2 (Conv2D)           (None, 8, 32, 256)        295168    \n",
      "                                                                 \n",
      " max_pooling2d_2 (MaxPooling  (None, 4, 32, 256)       0         \n",
      " 2D)                                                             \n",
      "                                                                 \n",
      " conv2d_3 (Conv2D)           (None, 4, 32, 512)        1180160   \n",
      "                                                                 \n",
      " batch_normalization (BatchN  (None, 4, 32, 512)       2048      \n",
      " ormalization)                                                   \n",
      "                                                                 \n",
      " conv2d_4 (Conv2D)           (None, 4, 32, 512)        2359808   \n",
      "                                                                 \n",
      " batch_normalization_1 (Batc  (None, 4, 32, 512)       2048      \n",
      " hNormalization)                                                 \n",
      "                                                                 \n",
      " max_pooling2d_3 (MaxPooling  (None, 2, 32, 512)       0         \n",
      " 2D)                                                             \n",
      "                                                                 \n",
      " reshape (Reshape)           (None, 64, 512)           0         \n",
      "                                                                 \n",
      " bidirectional (Bidirectiona  (None, 64, 512)          1574912   \n",
      " l)                                                              \n",
      "                                                                 \n",
      " bidirectional_1 (Bidirectio  (None, 64, 512)          1574912   \n",
      " nal)                                                            \n",
      "                                                                 \n",
      " bidirectional_2 (Bidirectio  (None, 64, 512)          1574912   \n",
      " nal)                                                            \n",
      "                                                                 \n",
      " dense (Dense)               (None, 64, 79)            40527     \n",
      "                                                                 \n",
      "=================================================================\n",
      "Total params: 8,678,991\n",
      "Trainable params: 8,676,943\n",
      "Non-trainable params: 2,048\n",
      "_________________________________________________________________\n"
     ]
    }
   ],
   "source": [
    "model.summary()"
   ]
  },
  {
   "cell_type": "code",
   "execution_count": 332,
   "metadata": {
    "id": "VW_7yyUTlHFu"
   },
   "outputs": [],
   "source": [
    "class AccuracyCallback(keras.callbacks.Callback):\n",
    "    def __init__(self, validation_data, char_list, max_label_len):\n",
    "        super(AccuracyCallback, self).__init__()\n",
    "        self.validation_data = validation_data\n",
    "        self.char_list = char_list\n",
    "        self.max_label_len = max_label_len\n",
    "\n",
    "    def calculate_cer(self, ground_truth, predicted):\n",
    "        \"\"\"Calculates the Character Error Rate (CER).\"\"\"\n",
    "        edit_distance = Levenshtein.distance(ground_truth, predicted)\n",
    "        cer = edit_distance / len(ground_truth)\n",
    "        return cer\n",
    "\n",
    "    def calculate_wer(self, ground_truth, predicted):\n",
    "        \"\"\"Calculates the Word Error Rate (WER).\"\"\"\n",
    "        ground_truth_words = ground_truth.split()\n",
    "        predicted_words = predicted.split()\n",
    "        edit_distance = Levenshtein.distance(ground_truth_words, predicted_words)\n",
    "        wer = edit_distance / len(ground_truth_words)\n",
    "        return wer\n",
    "\n",
    "    def decode_predictions(self, predictions):\n",
    "        \"\"\"Decodes predictions using CTC decoding.\"\"\"\n",
    "        input_len = np.ones(predictions.shape[0]) * predictions.shape[1]\n",
    "        results = keras.backend.ctc_decode(predictions,\n",
    "                                           input_length=input_len,\n",
    "                                           greedy=True)[0][0]\n",
    "        decoded_texts = []\n",
    "        for result in results:\n",
    "            decoded_text = ''.join([self.char_list[int(i)] for i in result if int(i) != -1])\n",
    "            decoded_texts.append(decoded_text)\n",
    "        return decoded_texts\n",
    "\n",
    "    def on_epoch_end(self, epoch, logs=None):\n",
    "        x_val, y_val = self.validation_data\n",
    "        predictions = self.model.predict(x_val)\n",
    "        decoded_texts = self.decode_predictions(predictions)\n",
    "\n",
    "        total_cer = 0\n",
    "        total_wer = 0\n",
    "        num_samples = len(decoded_texts)\n",
    "\n",
    "        # Prepare validation ground truth texts\n",
    "        y_val_texts = []\n",
    "        for y in y_val:\n",
    "          text = ''.join([self.char_list[int(i)] for i in y if int(i) != len(self.char_list)])\n",
    "          y_val_texts.append(text)\n",
    "\n",
    "\n",
    "        for i in range(num_samples):\n",
    "            cer = self.calculate_cer(y_val_texts[i], decoded_texts[i])\n",
    "            wer = self.calculate_wer(y_val_texts[i], decoded_texts[i])\n",
    "            total_cer += cer\n",
    "            total_wer += wer\n",
    "\n",
    "        avg_cer = total_cer / num_samples\n",
    "        avg_wer = total_wer / num_samples\n",
    "\n",
    "        print(f\"-Character Acc: {((1-avg_cer)*100):.4f}% -Word Acc: {((1-avg_wer)*100):.4f}%\")"
   ]
  },
  {
   "cell_type": "code",
   "execution_count": 333,
   "metadata": {
    "id": "_PjOjfJAlKM7"
   },
   "outputs": [],
   "source": [
    "accuracy_callback = AccuracyCallback(validation_data=(valid_images, valid_padded_label), char_list=char_list, max_label_len=max_label_len)"
   ]
  },
  {
   "cell_type": "code",
   "execution_count": 334,
   "metadata": {
    "id": "Li3BHi_apAEk"
   },
   "outputs": [],
   "source": [
    "model.compile(optimizer='adam', loss=ctc_loss)"
   ]
  },
  {
   "cell_type": "code",
   "execution_count": 335,
   "metadata": {
    "colab": {
     "base_uri": "https://localhost:8080/"
    },
    "executionInfo": {
     "elapsed": 2505813,
     "status": "ok",
     "timestamp": 1729329238126,
     "user": {
      "displayName": "Harshvardhan Gupta",
      "userId": "10328168051463798203"
     },
     "user_tz": -330
    },
    "id": "u3TeC7VJpA_7",
    "outputId": "7220babf-8ce7-43b2-9102-414545210d27"
   },
   "outputs": [
    {
     "name": "stdout",
     "output_type": "stream",
     "text": [
      "Epoch 1/25\n",
      "83/83 [==============================] - 3s 21ms/step\n",
      "-Character Acc: 31.2033% -Word Acc: 17.7005%\n",
      "743/743 [==============================] - 108s 138ms/step - loss: 13.7821 - val_loss: 11.8212\n",
      "Epoch 2/25\n",
      "83/83 [==============================] - 2s 21ms/step\n",
      "-Character Acc: 60.7458% -Word Acc: 33.3585%\n",
      "743/743 [==============================] - 95s 128ms/step - loss: 8.7621 - val_loss: 6.9446\n",
      "Epoch 3/25\n",
      "83/83 [==============================] - 2s 21ms/step\n",
      "-Character Acc: 77.6515% -Word Acc: 48.2980%\n",
      "743/743 [==============================] - 95s 128ms/step - loss: 5.0747 - val_loss: 3.9783\n",
      "Epoch 4/25\n",
      "83/83 [==============================] - 2s 21ms/step\n",
      "-Character Acc: 81.7637% -Word Acc: 55.4085%\n",
      "743/743 [==============================] - 95s 128ms/step - loss: 3.2660 - val_loss: 3.2761\n",
      "Epoch 5/25\n",
      "83/83 [==============================] - 2s 21ms/step\n",
      "-Character Acc: 86.3825% -Word Acc: 61.9516%\n",
      "743/743 [==============================] - 98s 132ms/step - loss: 2.4476 - val_loss: 2.5262\n",
      "Epoch 6/25\n",
      "83/83 [==============================] - 2s 21ms/step\n",
      "-Character Acc: 86.1840% -Word Acc: 61.8759%\n",
      "743/743 [==============================] - 95s 128ms/step - loss: 1.8957 - val_loss: 2.5766\n",
      "Epoch 7/25\n",
      "83/83 [==============================] - 2s 22ms/step\n",
      "-Character Acc: 87.2725% -Word Acc: 64.5613%\n",
      "743/743 [==============================] - 96s 130ms/step - loss: 1.5618 - val_loss: 2.2969\n",
      "Epoch 8/25\n",
      "83/83 [==============================] - 2s 21ms/step\n",
      "-Character Acc: 88.4748% -Word Acc: 67.4735%\n",
      "743/743 [==============================] - 96s 130ms/step - loss: 1.2757 - val_loss: 2.1208\n",
      "Epoch 9/25\n",
      "83/83 [==============================] - 2s 22ms/step\n",
      "-Character Acc: 88.5907% -Word Acc: 68.8729%\n",
      "743/743 [==============================] - 98s 131ms/step - loss: 1.0632 - val_loss: 2.1727\n",
      "Epoch 10/25\n",
      "83/83 [==============================] - 2s 22ms/step\n",
      "-Character Acc: 88.9464% -Word Acc: 68.8351%\n",
      "743/743 [==============================] - 100s 135ms/step - loss: 0.9246 - val_loss: 2.0972\n",
      "Epoch 11/25\n",
      "83/83 [==============================] - 2s 21ms/step\n",
      "-Character Acc: 89.3284% -Word Acc: 69.7806%\n",
      "743/743 [==============================] - 96s 129ms/step - loss: 0.7733 - val_loss: 2.1659\n",
      "Epoch 12/25\n",
      "83/83 [==============================] - 2s 21ms/step\n",
      "-Character Acc: 89.3179% -Word Acc: 70.0454%\n",
      "743/743 [==============================] - 96s 129ms/step - loss: 0.6820 - val_loss: 2.1635\n",
      "Epoch 13/25\n",
      "83/83 [==============================] - 2s 21ms/step\n",
      "-Character Acc: 89.4124% -Word Acc: 70.8018%\n",
      "743/743 [==============================] - 95s 128ms/step - loss: 0.6072 - val_loss: 2.1779\n"
     ]
    }
   ],
   "source": [
    "# Train the model\n",
    "history = model.fit(\n",
    "    x=train_images,\n",
    "    y=train_padded_label,\n",
    "    validation_data=(valid_images, valid_padded_label),\n",
    "    batch_size=32,\n",
    "    epochs=25,\n",
    "    callbacks=[\n",
    "        keras.callbacks.ModelCheckpoint(\n",
    "            \"best_model.keras\",\n",
    "            save_best_only=True,\n",
    "            monitor=\"val_loss\"\n",
    "        ),\n",
    "        keras.callbacks.EarlyStopping(\n",
    "            patience=3,\n",
    "            monitor=\"val_loss\"\n",
    "        ),\n",
    "        accuracy_callback  # Add the AccuracyCallback\n",
    "    ]\n",
    ")"
   ]
  },
  {
   "cell_type": "code",
   "execution_count": 340,
   "metadata": {
    "id": "5m6slCdppgud"
   },
   "outputs": [],
   "source": [
    "# Save the model in SavedModel format\n",
    "model.save('ocr_model_saved.keras')"
   ]
  },
  {
   "cell_type": "code",
   "execution_count": null,
   "metadata": {},
   "outputs": [],
   "source": [
    "loaded_model = keras.models.load_model('C:\\AI Models\\OCR_Model\\ocr_model_saved.keras', custom_objects={'ctc_loss': ctc_loss})"
   ]
  },
  {
   "cell_type": "code",
   "execution_count": null,
   "metadata": {},
   "outputs": [],
   "source": [
    "image_path=r'C:\\AI Models\\OCR_Model\\test-image.png'\n",
    "img = cv2.imread(image_path, cv2.IMREAD_GRAYSCALE)\n",
    "img = process_image(img)\n",
    "\n",
    "pic = np.asarray(img)\n",
    "plt.imshow(pic, cmap=plt.cm.gray)\n",
    "plt.show()\n",
    "print(' ')\n",
    "\n",
    "img = np.expand_dims(img, axis=0)\n",
    "prediction = loaded_model.predict(img)\n",
    "input_len = np.ones(prediction.shape[0]) * prediction.shape[1]\n",
    "results = keras.backend.ctc_decode(prediction,\n",
    "                                    input_length=input_len,\n",
    "                                    greedy=True)[0][0]\n",
    "\n",
    "output_text = []\n",
    "for result in results:\n",
    "    result = ''.join([char_list[int(i)] for i in result if int(i) != -1])\n",
    "    output_text.append(result)\n",
    "\n",
    "predicted_text=output_text[0]\n",
    "print(f\"Predicted text: {predicted_text}\")"
   ]
  }
 ],
 "metadata": {
  "accelerator": "GPU",
  "colab": {
   "gpuType": "T4",
   "provenance": []
  },
  "kernelspec": {
   "display_name": "ai-gpu",
   "language": "python",
   "name": "python3"
  },
  "language_info": {
   "codemirror_mode": {
    "name": "ipython",
    "version": 3
   },
   "file_extension": ".py",
   "mimetype": "text/x-python",
   "name": "python",
   "nbconvert_exporter": "python",
   "pygments_lexer": "ipython3",
   "version": "3.9.20"
  }
 },
 "nbformat": 4,
 "nbformat_minor": 0
}
