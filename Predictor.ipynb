{
 "cells": [
  {
   "cell_type": "code",
   "execution_count": 1,
   "metadata": {
    "colab": {
     "base_uri": "https://localhost:8080/"
    },
    "executionInfo": {
     "elapsed": 6473,
     "status": "ok",
     "timestamp": 1729404331109,
     "user": {
      "displayName": "Harshvardhan Gupta",
      "userId": "07791885256663719640"
     },
     "user_tz": -330
    },
    "id": "CRgtAEVmohz3",
    "outputId": "30ad6cf0-94de-4448-a690-964b8b9ae67f"
   },
   "outputs": [],
   "source": [
    "import numpy as np\n",
    "import cv2\n",
    "import pandas as pd\n",
    "import matplotlib.pyplot as plt\n",
    "import tensorflow as tf\n",
    "from tensorflow import keras"
   ]
  },
  {
   "cell_type": "code",
   "execution_count": 2,
   "metadata": {
    "colab": {
     "base_uri": "https://localhost:8080/"
    },
    "executionInfo": {
     "elapsed": 925,
     "status": "ok",
     "timestamp": 1729404416860,
     "user": {
      "displayName": "Harshvardhan Gupta",
      "userId": "07791885256663719640"
     },
     "user_tz": -330
    },
    "id": "Mlg_2r3RpIwA",
    "outputId": "51aff51b-e8f6-4108-cb38-724ef301563c"
   },
   "outputs": [
    {
     "name": "stdout",
     "output_type": "stream",
     "text": [
      "!\"#&'()*+,-./0123456789:;?ABCDEFGHIJKLMNOPQRSTUVWXYZabcdefghijklmnopqrstuvwxyz 78\n"
     ]
    }
   ],
   "source": [
    "max_label_len = 0\n",
    "\n",
    "char_list = \"!\\\"#&'()*+,-./0123456789:;?ABCDEFGHIJKLMNOPQRSTUVWXYZabcdefghijklmnopqrstuvwxyz\"\n",
    "\n",
    "print(char_list, len(char_list))\n",
    "\n",
    "def encode_to_labels(txt):\n",
    "    # encoding each output word into digits\n",
    "    dig_lst = []\n",
    "    for index, chara in enumerate(txt):\n",
    "        dig_lst.append(char_list.index(chara))\n",
    "\n",
    "    return dig_lst"
   ]
  },
  {
   "cell_type": "code",
   "execution_count": 3,
   "metadata": {
    "executionInfo": {
     "elapsed": 15,
     "status": "ok",
     "timestamp": 1729404417692,
     "user": {
      "displayName": "Harshvardhan Gupta",
      "userId": "07791885256663719640"
     },
     "user_tz": -330
    },
    "id": "kcu6Db38pOda"
   },
   "outputs": [],
   "source": [
    "def process_image(img):\n",
    "    \"\"\"\n",
    "    Converts image to shape (32, 128, 1) & normalize\n",
    "    \"\"\"\n",
    "    w, h = img.shape\n",
    "    new_w = 32\n",
    "    new_h = int(h * (new_w / w))\n",
    "    img = cv2.resize(img, (new_h, new_w))\n",
    "    w, h = img.shape\n",
    "\n",
    "    img = img.astype('float32')\n",
    "\n",
    "    # Converts each to (32, 128, 1)\n",
    "    if w < 32:\n",
    "        add_zeros = np.full((32-w, h), 255)\n",
    "        img = np.concatenate((img, add_zeros))\n",
    "        w, h = img.shape\n",
    "\n",
    "    if h < 128:\n",
    "        add_zeros = np.full((w, 128-h), 255)\n",
    "        img = np.concatenate((img, add_zeros), axis=1)\n",
    "        w, h = img.shape\n",
    "\n",
    "    if h > 128 or w > 32:\n",
    "        dim = (128,32)\n",
    "        img = cv2.resize(img, dim)\n",
    "\n",
    "    img = cv2.subtract(255, img)\n",
    "\n",
    "    img = np.expand_dims(img, axis=2)\n",
    "\n",
    "    # # Normalize\n",
    "    img = img / 255.0\n",
    "    return img"
   ]
  },
  {
   "cell_type": "code",
   "execution_count": 4,
   "metadata": {
    "executionInfo": {
     "elapsed": 13,
     "status": "ok",
     "timestamp": 1729404418788,
     "user": {
      "displayName": "Harshvardhan Gupta",
      "userId": "07791885256663719640"
     },
     "user_tz": -330
    },
    "id": "cUl4imhepcK8"
   },
   "outputs": [],
   "source": [
    "# CTC loss function\n",
    "def ctc_loss(y_true, y_pred):\n",
    "    batch_len = tf.cast(tf.shape(y_true)[0], dtype=\"int64\")\n",
    "    input_length = tf.cast(tf.shape(y_pred)[1], dtype=\"int64\")\n",
    "    label_length = tf.cast(tf.shape(y_true)[1], dtype=\"int64\")\n",
    "\n",
    "    input_length = input_length * tf.ones(shape=(batch_len, 1), dtype=\"int64\")\n",
    "    label_length = label_length * tf.ones(shape=(batch_len, 1), dtype=\"int64\")\n",
    "\n",
    "    return keras.backend.ctc_batch_cost(y_true, y_pred, input_length, label_length)"
   ]
  },
  {
   "cell_type": "code",
   "execution_count": 5,
   "metadata": {},
   "outputs": [],
   "source": [
    "loaded_model = keras.models.load_model('C:\\AI Models\\OCR_Model\\ocr_model_saved.keras', custom_objects={'ctc_loss': ctc_loss})"
   ]
  },
  {
   "cell_type": "code",
   "execution_count": null,
   "metadata": {
    "id": "orLVjuGh86pQ"
   },
   "outputs": [
    {
     "data": {
      "image/png": "[encoded data removed]",
      "text/plain": [
       "<Figure size 640x480 with 1 Axes>"
      ]
     },
     "metadata": {},
     "output_type": "display_data"
    },
    {
     "name": "stdout",
     "output_type": "stream",
     "text": [
      " \n",
      "1/1 [==============================] - 0s 67ms/step\n",
      "Predicted text: brush\n"
     ]
    }
   ],
   "source": [
    "image_path=r'C:\\AI Models\\OCR_Model\\test-image.png'\n",
    "img = cv2.imread(image_path, cv2.IMREAD_GRAYSCALE)\n",
    "img = process_image(img)\n",
    "\n",
    "pic = np.asarray(img)\n",
    "plt.imshow(pic, cmap=plt.cm.gray)\n",
    "plt.show()\n",
    "print(' ')\n",
    "\n",
    "img = np.expand_dims(img, axis=0)\n",
    "prediction = loaded_model.predict(img)\n",
    "input_len = np.ones(prediction.shape[0]) * prediction.shape[1]\n",
    "results = keras.backend.ctc_decode(prediction,\n",
    "                                    input_length=input_len,\n",
    "                                    greedy=True)[0][0]\n",
    "\n",
    "output_text = []\n",
    "for result in results:\n",
    "    result = ''.join([char_list[int(i)] for i in result if int(i) != -1])\n",
    "    output_text.append(result)\n",
    "\n",
    "predicted_text=output_text[0]\n",
    "print(f\"Predicted text: {predicted_text}\")"
   ]
  }
 ],
 "metadata": {
  "accelerator": "GPU",
  "colab": {
   "gpuType": "T4",
   "provenance": []
  },
  "kernelspec": {
   "display_name": "ai-gpu",
   "language": "python",
   "name": "python3"
  },
  "language_info": {
   "codemirror_mode": {
    "name": "ipython",
    "version": 3
   },
   "file_extension": ".py",
   "mimetype": "text/x-python",
   "name": "python",
   "nbconvert_exporter": "python",
   "pygments_lexer": "ipython3",
   "version": "3.9.20"
  }
 },
 "nbformat": 4,
 "nbformat_minor": 0
}
